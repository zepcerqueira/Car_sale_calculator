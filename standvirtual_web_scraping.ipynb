{
  "cells": [
    {
      "cell_type": "code",
      "execution_count": 1,
      "metadata": {
        "id": "hEVOMWMsGd_A"
      },
      "outputs": [],
      "source": [
        "import requests\n",
        "from bs4 import BeautifulSoup\n",
        "import pandas as pd\n",
        "import re\n",
        "import urllib.parse\n",
        "\n",
        "car_info = []\n",
        "car_model = []\n",
        "car_brand = []\n",
        "car_price = []\n",
        "car_pic = []\n",
        "car_km = []\n",
        "fuel_type = []\n",
        "transmission = []\n",
        "year = []"
      ]
    },
    {
      "cell_type": "code",
      "execution_count": 2,
      "metadata": {
        "id": "-Z9np26_Gd_J"
      },
      "outputs": [],
      "source": [
        "for page_number in range(1, 20):\n",
        "    url_page_numbers = f\"https://www.standvirtual.com/carros?page={page_number}\"\n",
        "    response_page_numbers = requests.get(url_page_numbers)\n",
        "    soup_page_numbers = BeautifulSoup (response_page_numbers.content)\n",
        "\n",
        "    auto_components = soup_page_numbers.find_all(\"main\", class_=\"ooa-19sk4h4 era12cr0\")\n",
        "    for component in auto_components:\n",
        "        car_standvirtual1 = component.find_all(\"div\", class_=\"ooa-8mr5l1\") #ok\n",
        "        for component in car_standvirtual1:\n",
        "            car_standvirtual2 = component.find_all(\"div\", class_=\"ooa-ys55sm er8sc6m1\") #ok\n",
        "            for component in car_standvirtual2:\n",
        "                car_standvirtual3 = component.find_all(\"div\", class_=\"ooa-1un3d5b er8sc6m2\") #ok\n",
        "                for component in car_standvirtual3:\n",
        "                    car_standvirtual4 = component.find_all(\"div\", class_=\"ooa-1hab6wx er8sc6m9\") #ok\n",
        "                    for component in car_standvirtual4:\n",
        "                        car_standvirtual5 = component.find_all(\"article\", class_=\"ooa-1t80gpj ev7e6t818\") #ok\n",
        "                        for component in car_standvirtual5:\n",
        "                            car_standvirtual6 = component.find_all(\"section\", class_=\"ooa-1rnjex3 ev7e6t817\") #ok\n",
        "\n",
        "                            #car brand and model (car_info)\n",
        "                            for component in car_standvirtual6:\n",
        "                                car_standvirtual_name = component.find_all(\"div\", class_=\"ooa-1jgmfmo ev7e6t812\") #ok\n",
        "                                #if any(\"citroën\" in name.get_text().lower() for name in car_standvirtual_name):\n",
        "                                title_ = component.find('h1')\n",
        "                                car_info.append(title_.text.strip())\n",
        "\n",
        "                            #price (car_price)\n",
        "                            for component in car_standvirtual6:\n",
        "                                car_standvirtual_price = component.find_all(\"div\", class_=\"ooa-j0d5pq ev7e6t813\") #ok\n",
        "                                for component in car_standvirtual_price:\n",
        "                                    car_standvirtual_price2 = component.find_all(\"div\", class_=\"ooa-1t7cj0c ermhljg4\") #ok\n",
        "                                    for component in car_standvirtual_price2:\n",
        "                                        car_standvirtual_price3 = component.find_all(\"div\", class_=\"ooa-1wb7q8u ev7e6t814\") #ok\n",
        "                                        for component in car_standvirtual_price3:\n",
        "                                            price = component.h3.get_text(strip=True)\n",
        "                                            car_price.append(price)\n",
        "\n",
        "                            for component in car_standvirtual6:\n",
        "                                # Check for the 'dd' elements\n",
        "                                car_info_km = car_info_fuel = car_info_transmission = car_info_year = None\n",
        "\n",
        "                                _info_km = component.find('dd', {'class': 'ooa-1smopdt ev7e6t85', 'data-parameter': 'mileage'})\n",
        "                                if _info_km:\n",
        "                                    car_info_km = _info_km.get_text(strip=True)\n",
        "                                    car_km.append(car_info_km)\n",
        "                                else:\n",
        "                                    car_km.append(\"None\")\n",
        "\n",
        "                                _info_fuel = component.find('dd', {'class': 'ooa-1smopdt ev7e6t85', 'data-parameter': 'fuel_type'})\n",
        "                                if _info_fuel:\n",
        "                                    car_info_fuel = _info_fuel.get_text(strip=True)\n",
        "                                    fuel_type.append(car_info_fuel)\n",
        "                                else:\n",
        "                                    fuel_type.append(\"None\")\n",
        "\n",
        "                                _info_transmission = component.find('dd', {'class': 'ooa-1smopdt ev7e6t85', 'data-parameter': 'gearbox'})\n",
        "                                if _info_transmission:\n",
        "                                    car_info_transmission = _info_transmission.get_text(strip=True)\n",
        "                                    transmission.append(car_info_transmission)\n",
        "                                else:\n",
        "                                    transmission.append(\"None\")  # Append None for missing data\n",
        "\n",
        "                                _info_year = component.find('dd', {'class': 'ooa-1smopdt ev7e6t85', 'data-parameter': 'first_registration_year'})\n",
        "                                if _info_year:\n",
        "                                    car_info_year = _info_year.get_text(strip=True)\n",
        "                                    year.append(car_info_year)\n",
        "                                else:\n",
        "                                    year.append(\"None\")  # Append None for missing data\n",
        "\n",
        "                                # Extract the image URL (with a check)\n",
        "                                car_standvirtual_img = component.find(\"div\", class_=\"ooa-165sslu e1j52kpv10\")\n",
        "                                if car_standvirtual_img:\n",
        "                                    pic_ = car_standvirtual_img.find('img')\n",
        "                                    if pic_:\n",
        "                                        car_pic.append(pic_['src'])\n",
        "                                    else:\n",
        "                                        car_pic.append(\"None\")\n",
        "                                else:\n",
        "                                    car_pic.append(\"None\")"
      ]
    },
    {
      "cell_type": "markdown",
      "metadata": {
        "id": "4uZr2tiSGd_N"
      },
      "source": [
        "DATA FRAME BUILDUP"
      ]
    },
    {
      "cell_type": "code",
      "execution_count": 3,
      "metadata": {
        "id": "E9AuSKxgGd_O"
      },
      "outputs": [],
      "source": [
        "car_data = {\n",
        "    'car_full_name': car_info,\n",
        "    \"registration_year\": year,\n",
        "    \"km_to_date\": car_km,\n",
        "    \"sale_price\": car_price,\n",
        "    \"fuel_type\": fuel_type,\n",
        "    \"transmission_type\": transmission,\n",
        "    \"sale_picture_link\": car_pic\n",
        "}"
      ]
    },
    {
      "cell_type": "code",
      "execution_count": 4,
      "metadata": {
        "colab": {
          "base_uri": "https://localhost:8080/"
        },
        "id": "uEqGvSOYGd_R",
        "outputId": "63738c55-c220-403b-8e0c-72caf02e7ab2"
      },
      "outputs": [],
      "source": [
        "standvirtual_df = pd.DataFrame(car_data)\n",
        "\n",
        "# Clear the DataFrame\n",
        "\n",
        "standvirtual_df['car_full_name'] = standvirtual_df['car_full_name'].str.replace('ë', 'e')\n",
        "standvirtual_df['car_full_name'] = standvirtual_df['car_full_name'].str.replace('é', 'e')\n",
        "standvirtual_df['car_full_name'] = standvirtual_df['car_full_name'].str.lower()\n",
        "\n",
        "standvirtual_df = standvirtual_df[standvirtual_df['registration_year'] != \"None\"]\n",
        "standvirtual_df['registration_year'] = standvirtual_df['registration_year'].str.replace(' ', '').astype(int)\n",
        "\n",
        "standvirtual_df = standvirtual_df[standvirtual_df['km_to_date'] != \"None\"]\n",
        "standvirtual_df['km_to_date'] = standvirtual_df['km_to_date'].str.replace('km', '').str.replace(' ', '').astype(int)\n",
        "\n",
        "standvirtual_df = standvirtual_df[standvirtual_df['sale_price'] != \"None\"]\n",
        "standvirtual_df['sale_price'] = standvirtual_df['sale_price'].str.replace(' ', '')\n",
        "standvirtual_df['sale_price'] = standvirtual_df['sale_price'].astype(int)\n",
        "\n",
        "standvirtual_df = standvirtual_df[standvirtual_df['fuel_type'] != \"None\"]\n",
        "standvirtual_df['fuel_type'] = standvirtual_df['fuel_type'].str.replace('é', 'e')\n",
        "standvirtual_df['fuel_type'] = standvirtual_df['fuel_type'].str.lower()\n",
        "standvirtual_df['fuel_type'] = standvirtual_df['fuel_type'].str.replace(r'híbrido \\(gasolina\\)', 'hibrido', regex=True)\n",
        "\n",
        "standvirtual_df = standvirtual_df[standvirtual_df['transmission_type'] != \"None\"]\n",
        "standvirtual_df['transmission_type'] = standvirtual_df['transmission_type'].str.replace('á', 'a')\n",
        "standvirtual_df['transmission_type'] = standvirtual_df['transmission_type'].str.lower()\n"
      ]
    },
    {
      "cell_type": "code",
      "execution_count": 5,
      "metadata": {
        "id": "Zsy6L4JbGd_T"
      },
      "outputs": [],
      "source": [
        "car_brands = [\n",
        "    \"toyota\", \"ford\", \"chevrolet\", \"honda\", \"volkswagen\", \"nissan\",\n",
        "    \"hyundai\", \"bmw\", \"mercedes-benz\", \"audi\", \"subaru\", \"kia\",\n",
        "    \"mazda\", \"tesla\", \"jeep\", \"gmc\", \"volvo\", \"jaguar\", \"land rover\",\n",
        "    \"porsche\", \"ferrari\", \"lamborghini\", \"aston martin\", \"rolls-royce\",\n",
        "    \"bentley\", \"maserati\", \"alfa romeo\", \"mini\", \"fiat\", \"peugeot\",\n",
        "    \"renault\", \"citroen\", \"skoda\", \"mitsubishi\", \"infiniti\", \"acura\",\n",
        "    \"lexus\", \"buick\", \"chrysler\", \"dodge\", \"ram\", \"cadillac\", \"lincoln\",\n",
        "    \"genesis\", \"suzuki\", \"vw\", \"ds\", \"seat\", \"opel\", \"dacia\"\n",
        "]"
      ]
    },
    {
      "cell_type": "code",
      "execution_count": 6,
      "metadata": {
        "colab": {
          "base_uri": "https://localhost:8080/"
        },
        "id": "zZbyhURoGd_V",
        "outputId": "4a6c42ee-b64b-4a51-9481-ac7c9b00e217"
      },
      "outputs": [],
      "source": [
        "# Create a new column 'car_brand' with the brand name if it exists in 'brand_model'\n",
        "standvirtual_df['car_brand'] = standvirtual_df['car_full_name'].str.extract(f'({\"|\".join(car_brands)})', expand=False)\n",
        "\n",
        "# Fill any NaN values in the 'car_brand' column with an empty string\n",
        "standvirtual_df['car_brand'] = standvirtual_df['car_brand'].fillna('')\n",
        "\n",
        "cols = ['car_brand'] + [col for col in standvirtual_df if col != 'car_brand']\n",
        "standvirtual_df = standvirtual_df[cols]"
      ]
    },
    {
      "cell_type": "code",
      "execution_count": 7,
      "metadata": {
        "id": "uXrjWKfFGd_Y"
      },
      "outputs": [],
      "source": [
        "standvirtual_df.to_csv('standvirtual_df.csv', index=False)\n"
      ]
    }
  ],
  "metadata": {
    "colab": {
      "provenance": []
    },
    "kernelspec": {
      "display_name": "base",
      "language": "python",
      "name": "python3"
    },
    "language_info": {
      "codemirror_mode": {
        "name": "ipython",
        "version": 3
      },
      "file_extension": ".py",
      "mimetype": "text/x-python",
      "name": "python",
      "nbconvert_exporter": "python",
      "pygments_lexer": "ipython3",
      "version": "3.11.3"
    }
  },
  "nbformat": 4,
  "nbformat_minor": 0
}
