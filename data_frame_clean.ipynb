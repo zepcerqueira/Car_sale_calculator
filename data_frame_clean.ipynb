{
 "cells": [
  {
   "cell_type": "markdown",
   "metadata": {},
   "source": [
    "## LOAD THE DATA FRAMES AND CLEAN"
   ]
  },
  {
   "cell_type": "markdown",
   "metadata": {},
   "source": [
    "Remove duplicates "
   ]
  },
  {
   "cell_type": "code",
   "execution_count": 1,
   "metadata": {},
   "outputs": [],
   "source": [
    "import pandas as pd\n",
    "\n",
    "import warnings\n",
    "warnings.filterwarnings(\"ignore\")"
   ]
  },
  {
   "cell_type": "code",
   "execution_count": 2,
   "metadata": {},
   "outputs": [],
   "source": [
    "#Full csv with all car brands and models \n",
    "standvirtual_df = pd.read_csv(\"standvirtual_df.csv\")\n"
   ]
  },
  {
   "cell_type": "code",
   "execution_count": 3,
   "metadata": {},
   "outputs": [
    {
     "data": {
      "text/plain": [
       "Index(['car_full_name', 'registration_year', 'km_to_date', 'sale_price',\n",
       "       'fuel_type', 'transmission_type', 'sale_picture_link'],\n",
       "      dtype='object')"
      ]
     },
     "execution_count": 3,
     "metadata": {},
     "output_type": "execute_result"
    }
   ],
   "source": [
    "standvirtual_df.columns"
   ]
  },
  {
   "cell_type": "code",
   "execution_count": 4,
   "metadata": {},
   "outputs": [],
   "source": [
    "standvirtual_df = standvirtual_df.drop_duplicates(subset=[\"car_full_name\", \"registration_year\", \"km_to_date\", \"sale_price\",\"fuel_type\", \"transmission_type\",], keep=\"first\")\n",
    "# Reset the index\n",
    "standvirtual_df.reset_index(drop=True, inplace=True)\n"
   ]
  },
  {
   "cell_type": "code",
   "execution_count": 5,
   "metadata": {},
   "outputs": [],
   "source": [
    "standvirtual_df[\"car_full_name\"] = standvirtual_df[\"car_full_name\"].str.replace(\"ë\", \"e\")\n",
    "standvirtual_df[\"car_full_name\"] = standvirtual_df[\"car_full_name\"].str.replace(\"é\", \"e\")\n",
    "standvirtual_df[\"car_full_name\"] = standvirtual_df[\"car_full_name\"].str.lower()\n",
    "\n",
    "standvirtual_df = standvirtual_df[standvirtual_df['km_to_date'] != \"None\"]\n",
    "standvirtual_df['km_to_date'] = standvirtual_df['km_to_date'].str.replace('km', '').str.replace(' ', '').astype(int)\n",
    "\n",
    "standvirtual_df = standvirtual_df[standvirtual_df['sale_price'] != \"None\"]\n",
    "standvirtual_df['sale_price'] = standvirtual_df['sale_price'].str.replace(' ', '')\n",
    "standvirtual_df['sale_price'] = standvirtual_df['sale_price'].astype(int)\n",
    "\n",
    "standvirtual_df = standvirtual_df[standvirtual_df['fuel_type'] != \"None\"]\n",
    "standvirtual_df['fuel_type'] = standvirtual_df['fuel_type'].str.replace('é', 'e')\n",
    "standvirtual_df['fuel_type'] = standvirtual_df['fuel_type'].str.lower()\n",
    "standvirtual_df['fuel_type'] = standvirtual_df['fuel_type'].str.replace(r'híbrido \\(gasolina\\)', 'hibrido', regex=True)\n",
    "\n",
    "standvirtual_df = standvirtual_df[standvirtual_df['transmission_type'] != \"None\"]\n",
    "standvirtual_df['transmission_type'] = standvirtual_df['transmission_type'].str.replace('á', 'a')\n",
    "standvirtual_df['transmission_type'] = standvirtual_df['transmission_type'].str.lower()"
   ]
  },
  {
   "cell_type": "markdown",
   "metadata": {},
   "source": [
    "## Lower case and get the brands"
   ]
  },
  {
   "cell_type": "code",
   "execution_count": 6,
   "metadata": {},
   "outputs": [],
   "source": [
    "car_brands = [\n",
    "    \"toyota\", \"ford\", \"chevrolet\", \"honda\", \"volkswagen\", \"nissan\",\n",
    "    \"hyundai\", \"bmw\", \"mercedes-benz\", \"audi\", \"subaru\", \"kia\",\n",
    "    \"mazda\", \"tesla\", \"jeep\", \"gmc\", \"volvo\", \"jaguar\", \"land rover\",\n",
    "    \"porsche\", \"ferrari\", \"lamborghini\", \"aston martin\", \"rolls-royce\",\n",
    "    \"bentley\", \"maserati\", \"alfa romeo\", \"mini\", \"fiat\", \"peugeot\",\n",
    "    \"renault\", \"citroen\", \"citroën\", \"skoda\", \"mitsubishi\", \"infiniti\", \"acura\",\n",
    "    \"lexus\", \"buick\", \"chrysler\", \"dodge\", \"ram\", \"cadillac\", \"lincoln\",\n",
    "    \"genesis\", \"suzuki\", \"vw\", \"ds\", \"seat\", \"opel\", \"dacia\"\n",
    "]"
   ]
  },
  {
   "cell_type": "code",
   "execution_count": 7,
   "metadata": {},
   "outputs": [],
   "source": [
    "standvirtual_df = standvirtual_df.applymap(lambda x: x.lower() if isinstance(x, str) else x)"
   ]
  },
  {
   "cell_type": "code",
   "execution_count": 8,
   "metadata": {},
   "outputs": [],
   "source": [
    "standvirtual_df['car_brand'] = standvirtual_df['car_full_name'].str.extract(f'({\"|\".join(car_brands)})', expand=False)\n",
    "standvirtual_df = standvirtual_df[[\"car_brand\"] + [col for col in standvirtual_df.columns if col != \"car_brand\"]]"
   ]
  },
  {
   "cell_type": "code",
   "execution_count": 9,
   "metadata": {},
   "outputs": [
    {
     "data": {
      "text/plain": [
       "mercedes-benz    1946\n",
       "bmw              1573\n",
       "renault          1513\n",
       "peugeot          1469\n",
       "vw                839\n",
       "citroen           708\n",
       "audi              689\n",
       "seat              615\n",
       "fiat              592\n",
       "opel              542\n",
       "ford              523\n",
       "nissan            470\n",
       "mini              418\n",
       "volvo             337\n",
       "porsche           301\n",
       "toyota            295\n",
       "hyundai           290\n",
       "land rover        184\n",
       "dacia             176\n",
       "kia               153\n",
       "jeep              117\n",
       "jaguar            117\n",
       "alfa romeo        116\n",
       "mitsubishi        113\n",
       "ds                112\n",
       "skoda             110\n",
       "mazda             100\n",
       "honda              95\n",
       "tesla              81\n",
       "lexus              33\n",
       "chevrolet          30\n",
       "suzuki             26\n",
       "lamborghini        16\n",
       "ferrari            14\n",
       "bentley            12\n",
       "dodge              12\n",
       "aston martin       12\n",
       "maserati           10\n",
       "chrysler            4\n",
       "cadillac            3\n",
       "subaru              2\n",
       "infiniti            1\n",
       "Name: car_brand, dtype: int64"
      ]
     },
     "execution_count": 9,
     "metadata": {},
     "output_type": "execute_result"
    }
   ],
   "source": [
    "value_counts = standvirtual_df['car_brand'].value_counts()\n",
    "value_counts"
   ]
  },
  {
   "cell_type": "markdown",
   "metadata": {},
   "source": [
    "Citroen and Audi cars have a similar sample population."
   ]
  },
  {
   "cell_type": "markdown",
   "metadata": {},
   "source": [
    "## Get the brands Citroen and Audi. "
   ]
  },
  {
   "cell_type": "code",
   "execution_count": 10,
   "metadata": {},
   "outputs": [],
   "source": [
    "car_brands_2 = [\"citroen\", \"citroën\", \"audi\"]"
   ]
  },
  {
   "cell_type": "code",
   "execution_count": 11,
   "metadata": {},
   "outputs": [],
   "source": [
    "citroen_audi_df = standvirtual_df[standvirtual_df[\"car_brand\"].isin(car_brands_2)]\n",
    "citroen_audi_df = citroen_audi_df[[\"car_brand\"] + [col for col in standvirtual_df.columns if col != \"car_brand\"]]\n",
    "citroen_audi_df = citroen_audi_df.reset_index(drop=True)"
   ]
  },
  {
   "cell_type": "markdown",
   "metadata": {},
   "source": [
    "## Get the models. For the EDA, we will use Citroen C3 and Audi A1/A3"
   ]
  },
  {
   "cell_type": "code",
   "execution_count": 12,
   "metadata": {},
   "outputs": [],
   "source": [
    "citroen_audi_models = [\n",
    "    \"c3\", \"c5\", \"c1\", \"berlingo\", \"ds3\", \"ds4\", \"c4\", \"ds5\", \"a1\", \"a3\", \"a4\", \"a5\", \"a6\", \"a7\", \"a8\",\n",
    "    \"q2\", \"q3\", \"q5\", \"q7\", \"q8\",\n",
    "    \"tt\", \"r8\", \"e-tron\"\n",
    "]"
   ]
  },
  {
   "cell_type": "code",
   "execution_count": 13,
   "metadata": {},
   "outputs": [],
   "source": [
    "citroen_audi_df[\"car_model\"] = citroen_audi_df[\"car_full_name\"].str.extract(f'({\"|\".join(citroen_audi_models)})', expand=False)\n",
    "citroen_audi_df[\"car_model\"] = citroen_audi_df[\"car_model\"].fillna(\"\")\n",
    "\n",
    "# Reorder the columns\n",
    "cols = [\"car_model\"] + [col for col in citroen_audi_df if col != \"car_model\"]\n",
    "citroen_audi_df = citroen_audi_df[cols]\n",
    "citroen_audi_df = citroen_audi_df.reset_index(drop=True)\n",
    "\n",
    "#citroen_audi_df = citroen_audi_df.iloc[:732]\n",
    "\n",
    "citroen_audi_df.to_csv(\"citroen_audi_df.csv\", index=False)"
   ]
  }
 ],
 "metadata": {
  "kernelspec": {
   "display_name": "base",
   "language": "python",
   "name": "python3"
  },
  "language_info": {
   "codemirror_mode": {
    "name": "ipython",
    "version": 3
   },
   "file_extension": ".py",
   "mimetype": "text/x-python",
   "name": "python",
   "nbconvert_exporter": "python",
   "pygments_lexer": "ipython3",
   "version": "3.11.3"
  }
 },
 "nbformat": 4,
 "nbformat_minor": 2
}
